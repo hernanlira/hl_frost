{
 "cells": [
  {
   "cell_type": "markdown",
   "source": [
    "Este es un modelo 'juguete' que requiere lo siguiente:\n",
    "- Dos variables: Ej. datos de un sensor de temperatura y temperatura de una estación o datos de temperatura y humedad de un sensor\n",
    "- Para cada una de las variables requiere como input 3 datos. Ej. si usamos ventanas de tiempo de 10 minutos para calcular la media de temperatura, se necesitan los 30 minutos anteriores para predecir los próximos 10 minutos.\n",
    "\n",
    "(*) Por ahora el resultado no tiene sentido puesto que falta implementar funciones para derivar el input y para calcular inversas del output. Lo importante es que funcione el flujo completo."
   ],
   "metadata": {}
  },
  {
   "cell_type": "code",
   "execution_count": 8,
   "source": [
    "import numpy as np\n",
    "import pandas as pd"
   ],
   "outputs": [],
   "metadata": {}
  },
  {
   "cell_type": "code",
   "execution_count": 4,
   "source": [
    "# Obtener los coeficientes del modelo entrenado\n",
    "coef = np.load('var_model.npy')"
   ],
   "outputs": [],
   "metadata": {}
  },
  {
   "cell_type": "markdown",
   "source": [
    "### Nuevos datos\n",
    "Por ejemplo:"
   ],
   "metadata": {}
  },
  {
   "cell_type": "code",
   "execution_count": 9,
   "source": [
    "df1 = pd.DataFrame({'temp':[23, 25, 27], 'hum':[51, 52, 49]})"
   ],
   "outputs": [],
   "metadata": {}
  },
  {
   "cell_type": "code",
   "execution_count": 10,
   "source": [
    "# Obtener el arreglo\n",
    "b = df1.values"
   ],
   "outputs": [],
   "metadata": {}
  },
  {
   "cell_type": "code",
   "execution_count": 6,
   "source": [
    "def predict(data, coef):\n",
    "    prediction = coef[0][0] + data[-1][0]*coef[1][0] + data[-1][1]*coef[1][1] + data[-2][0]*coef[3][0] + data[-2][1]*coef[3][1] + data[-3][0]*coef[5][0] + data[-3][1]*coef[5][1]\n",
    "    return prediction "
   ],
   "outputs": [],
   "metadata": {}
  },
  {
   "cell_type": "code",
   "execution_count": 12,
   "source": [
    "print('Prediction: %f' % predict(b, coef))"
   ],
   "outputs": [
    {
     "output_type": "stream",
     "name": "stdout",
     "text": [
      "Prediction: -155.377396\n"
     ]
    }
   ],
   "metadata": {}
  },
  {
   "cell_type": "code",
   "execution_count": null,
   "source": [],
   "outputs": [],
   "metadata": {}
  }
 ],
 "metadata": {
  "orig_nbformat": 4,
  "language_info": {
   "name": "python",
   "version": "3.9.6",
   "mimetype": "text/x-python",
   "codemirror_mode": {
    "name": "ipython",
    "version": 3
   },
   "pygments_lexer": "ipython3",
   "nbconvert_exporter": "python",
   "file_extension": ".py"
  },
  "kernelspec": {
   "name": "python3",
   "display_name": "Python 3.9.6 64-bit ('tensorflow': conda)"
  },
  "interpreter": {
   "hash": "03a21a4e9a1b743d904f6095ba26b6148804158e4aa8afd638f2524b8468b45d"
  }
 },
 "nbformat": 4,
 "nbformat_minor": 2
}