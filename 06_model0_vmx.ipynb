{
 "cells": [
  {
   "cell_type": "markdown",
   "source": [
    "Modelo para testear si funciona el pipeline con una serie temporal de 1 sensor de temperatura y de 1 estación externa.\n",
    "\n",
    "Input: Dataframe en un archivo csv con timestamps, 6 valores de temperatura (última hora) de 1 sensor de temperatura y de 1 estación externa (usar estación Parral o Monte Flor por ahora). El archivo test.csv es un ejemplo del input requerido.\n",
    "\n",
    "Output: Se genera un dataframe con la predicción para la próxima hora (6 valores de temperatura)."
   ],
   "metadata": {}
  },
  {
   "cell_type": "code",
   "execution_count": 16,
   "source": [
    "import pandas as pd\n",
    "from statsmodels.tsa.statespace.varmax import VARMAXResults\n",
    "\n",
    "model = VARMAXResults.load('vmx_model.pkl')"
   ],
   "outputs": [],
   "metadata": {}
  },
  {
   "cell_type": "code",
   "execution_count": 17,
   "source": [
    "# Load recent data\n",
    "test = pd.read_csv('test.csv', index_col=0)"
   ],
   "outputs": [],
   "metadata": {}
  },
  {
   "cell_type": "code",
   "execution_count": 18,
   "source": [
    "test.head()"
   ],
   "outputs": [
    {
     "output_type": "execute_result",
     "data": {
      "text/html": [
       "<div>\n",
       "<style scoped>\n",
       "    .dataframe tbody tr th:only-of-type {\n",
       "        vertical-align: middle;\n",
       "    }\n",
       "\n",
       "    .dataframe tbody tr th {\n",
       "        vertical-align: top;\n",
       "    }\n",
       "\n",
       "    .dataframe thead th {\n",
       "        text-align: right;\n",
       "    }\n",
       "</style>\n",
       "<table border=\"1\" class=\"dataframe\">\n",
       "  <thead>\n",
       "    <tr style=\"text-align: right;\">\n",
       "      <th></th>\n",
       "      <th>temp_sensor</th>\n",
       "      <th>temp_ext</th>\n",
       "    </tr>\n",
       "    <tr>\n",
       "      <th>time</th>\n",
       "      <th></th>\n",
       "      <th></th>\n",
       "    </tr>\n",
       "  </thead>\n",
       "  <tbody>\n",
       "    <tr>\n",
       "      <th>2020-12-03 23:00:00</th>\n",
       "      <td>22.154542</td>\n",
       "      <td>22.860966</td>\n",
       "    </tr>\n",
       "    <tr>\n",
       "      <th>2020-12-03 23:10:00</th>\n",
       "      <td>21.694717</td>\n",
       "      <td>23.480283</td>\n",
       "    </tr>\n",
       "    <tr>\n",
       "      <th>2020-12-03 23:20:00</th>\n",
       "      <td>21.116712</td>\n",
       "      <td>22.722898</td>\n",
       "    </tr>\n",
       "    <tr>\n",
       "      <th>2020-12-03 23:30:00</th>\n",
       "      <td>20.541633</td>\n",
       "      <td>21.808783</td>\n",
       "    </tr>\n",
       "    <tr>\n",
       "      <th>2020-12-03 23:40:00</th>\n",
       "      <td>20.191847</td>\n",
       "      <td>21.927186</td>\n",
       "    </tr>\n",
       "  </tbody>\n",
       "</table>\n",
       "</div>"
      ],
      "text/plain": [
       "                     temp_sensor   temp_ext\n",
       "time                                       \n",
       "2020-12-03 23:00:00    22.154542  22.860966\n",
       "2020-12-03 23:10:00    21.694717  23.480283\n",
       "2020-12-03 23:20:00    21.116712  22.722898\n",
       "2020-12-03 23:30:00    20.541633  21.808783\n",
       "2020-12-03 23:40:00    20.191847  21.927186"
      ]
     },
     "metadata": {},
     "execution_count": 18
    }
   ],
   "metadata": {}
  },
  {
   "cell_type": "code",
   "execution_count": 19,
   "source": [
    "# make prediction\n",
    "yhat = model.forecast(steps=len(test))\n",
    "\n",
    "res=pd.DataFrame({\"t_pred\":yhat['temp_sensor']})"
   ],
   "outputs": [],
   "metadata": {}
  },
  {
   "cell_type": "code",
   "execution_count": 21,
   "source": [
    "res "
   ],
   "outputs": [
    {
     "output_type": "execute_result",
     "data": {
      "text/html": [
       "<div>\n",
       "<style scoped>\n",
       "    .dataframe tbody tr th:only-of-type {\n",
       "        vertical-align: middle;\n",
       "    }\n",
       "\n",
       "    .dataframe tbody tr th {\n",
       "        vertical-align: top;\n",
       "    }\n",
       "\n",
       "    .dataframe thead th {\n",
       "        text-align: right;\n",
       "    }\n",
       "</style>\n",
       "<table border=\"1\" class=\"dataframe\">\n",
       "  <thead>\n",
       "    <tr style=\"text-align: right;\">\n",
       "      <th></th>\n",
       "      <th>t_pred</th>\n",
       "    </tr>\n",
       "  </thead>\n",
       "  <tbody>\n",
       "    <tr>\n",
       "      <th>2020-12-04 00:00:00</th>\n",
       "      <td>21.554171</td>\n",
       "    </tr>\n",
       "    <tr>\n",
       "      <th>2020-12-04 00:10:00</th>\n",
       "      <td>23.131725</td>\n",
       "    </tr>\n",
       "    <tr>\n",
       "      <th>2020-12-04 00:20:00</th>\n",
       "      <td>23.010177</td>\n",
       "    </tr>\n",
       "    <tr>\n",
       "      <th>2020-12-04 00:30:00</th>\n",
       "      <td>22.858781</td>\n",
       "    </tr>\n",
       "    <tr>\n",
       "      <th>2020-12-04 00:40:00</th>\n",
       "      <td>22.711926</td>\n",
       "    </tr>\n",
       "    <tr>\n",
       "      <th>2020-12-04 00:50:00</th>\n",
       "      <td>22.570146</td>\n",
       "    </tr>\n",
       "  </tbody>\n",
       "</table>\n",
       "</div>"
      ],
      "text/plain": [
       "                        t_pred\n",
       "2020-12-04 00:00:00  21.554171\n",
       "2020-12-04 00:10:00  23.131725\n",
       "2020-12-04 00:20:00  23.010177\n",
       "2020-12-04 00:30:00  22.858781\n",
       "2020-12-04 00:40:00  22.711926\n",
       "2020-12-04 00:50:00  22.570146"
      ]
     },
     "metadata": {},
     "execution_count": 21
    }
   ],
   "metadata": {}
  }
 ],
 "metadata": {
  "orig_nbformat": 4,
  "language_info": {
   "name": "python",
   "version": "3.9.6",
   "mimetype": "text/x-python",
   "codemirror_mode": {
    "name": "ipython",
    "version": 3
   },
   "pygments_lexer": "ipython3",
   "nbconvert_exporter": "python",
   "file_extension": ".py"
  },
  "kernelspec": {
   "name": "python3",
   "display_name": "Python 3.9.6 64-bit ('tensorflow': conda)"
  },
  "interpreter": {
   "hash": "03a21a4e9a1b743d904f6095ba26b6148804158e4aa8afd638f2524b8468b45d"
  }
 },
 "nbformat": 4,
 "nbformat_minor": 2
}