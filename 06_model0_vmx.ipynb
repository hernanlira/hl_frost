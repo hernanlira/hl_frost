{
 "cells": [
  {
   "cell_type": "markdown",
   "metadata": {},
   "source": [
    "Modelo para testear si funciona el pipeline con una serie temporal de 1 sensor de temperatura y de 1 estación externa.\n",
    "\n",
    "Input: Dataframe en un archivo csv con timestamps, 6 valores de temperatura (última hora) de 1 sensor de temperatura y de 1 estación externa (usar estación Parral o Monte Flor por ahora). El archivo test.csv es un ejemplo del input requerido.\n",
    "\n",
    "Output: Se genera un dataframe con la predicción para la próxima hora (6 valores de temperatura)."
   ]
  },
  {
   "cell_type": "code",
   "execution_count": 1,
   "metadata": {},
   "outputs": [],
   "source": [
    "import pandas as pd\n",
    "from statsmodels.tsa.statespace.varmax import VARMAXResults\n",
    "\n",
    "model = VARMAXResults.load('vmx_model.pkl')"
   ]
  },
  {
   "cell_type": "code",
   "execution_count": 2,
   "metadata": {},
   "outputs": [],
   "source": [
    "# Load recent data\n",
    "test = pd.read_csv('test.csv', index_col=0)"
   ]
  },
  {
   "cell_type": "code",
   "execution_count": 3,
   "metadata": {},
   "outputs": [
    {
     "data": {
      "text/html": [
       "<div>\n",
       "<style scoped>\n",
       "    .dataframe tbody tr th:only-of-type {\n",
       "        vertical-align: middle;\n",
       "    }\n",
       "\n",
       "    .dataframe tbody tr th {\n",
       "        vertical-align: top;\n",
       "    }\n",
       "\n",
       "    .dataframe thead th {\n",
       "        text-align: right;\n",
       "    }\n",
       "</style>\n",
       "<table border=\"1\" class=\"dataframe\">\n",
       "  <thead>\n",
       "    <tr style=\"text-align: right;\">\n",
       "      <th></th>\n",
       "      <th>temp_sensor</th>\n",
       "      <th>temp_ext</th>\n",
       "    </tr>\n",
       "    <tr>\n",
       "      <th>time</th>\n",
       "      <th></th>\n",
       "      <th></th>\n",
       "    </tr>\n",
       "  </thead>\n",
       "  <tbody>\n",
       "    <tr>\n",
       "      <th>2020-12-03 23:00:00</th>\n",
       "      <td>22.154542</td>\n",
       "      <td>22.860966</td>\n",
       "    </tr>\n",
       "    <tr>\n",
       "      <th>2020-12-03 23:10:00</th>\n",
       "      <td>21.694717</td>\n",
       "      <td>23.480283</td>\n",
       "    </tr>\n",
       "    <tr>\n",
       "      <th>2020-12-03 23:20:00</th>\n",
       "      <td>21.116712</td>\n",
       "      <td>22.722898</td>\n",
       "    </tr>\n",
       "    <tr>\n",
       "      <th>2020-12-03 23:30:00</th>\n",
       "      <td>20.541633</td>\n",
       "      <td>21.808783</td>\n",
       "    </tr>\n",
       "    <tr>\n",
       "      <th>2020-12-03 23:40:00</th>\n",
       "      <td>20.191847</td>\n",
       "      <td>21.927186</td>\n",
       "    </tr>\n",
       "  </tbody>\n",
       "</table>\n",
       "</div>"
      ],
      "text/plain": [
       "                     temp_sensor   temp_ext\n",
       "time                                       \n",
       "2020-12-03 23:00:00    22.154542  22.860966\n",
       "2020-12-03 23:10:00    21.694717  23.480283\n",
       "2020-12-03 23:20:00    21.116712  22.722898\n",
       "2020-12-03 23:30:00    20.541633  21.808783\n",
       "2020-12-03 23:40:00    20.191847  21.927186"
      ]
     },
     "execution_count": 3,
     "metadata": {},
     "output_type": "execute_result"
    }
   ],
   "source": [
    "test.head()"
   ]
  },
  {
   "cell_type": "code",
   "execution_count": 6,
   "metadata": {},
   "outputs": [],
   "source": [
    "test2 = test.copy()"
   ]
  },
  {
   "cell_type": "code",
   "execution_count": 7,
   "metadata": {},
   "outputs": [],
   "source": [
    "test2.temp_sensor = test2.temp_sensor.shift(1)"
   ]
  },
  {
   "cell_type": "code",
   "execution_count": 10,
   "metadata": {},
   "outputs": [
    {
     "data": {
      "text/html": [
       "<div>\n",
       "<style scoped>\n",
       "    .dataframe tbody tr th:only-of-type {\n",
       "        vertical-align: middle;\n",
       "    }\n",
       "\n",
       "    .dataframe tbody tr th {\n",
       "        vertical-align: top;\n",
       "    }\n",
       "\n",
       "    .dataframe thead th {\n",
       "        text-align: right;\n",
       "    }\n",
       "</style>\n",
       "<table border=\"1\" class=\"dataframe\">\n",
       "  <thead>\n",
       "    <tr style=\"text-align: right;\">\n",
       "      <th></th>\n",
       "      <th>temp_sensor</th>\n",
       "      <th>temp_ext</th>\n",
       "    </tr>\n",
       "    <tr>\n",
       "      <th>time</th>\n",
       "      <th></th>\n",
       "      <th></th>\n",
       "    </tr>\n",
       "  </thead>\n",
       "  <tbody>\n",
       "    <tr>\n",
       "      <th>2020-12-03 23:00:00</th>\n",
       "      <td>23.000000</td>\n",
       "      <td>22.860966</td>\n",
       "    </tr>\n",
       "    <tr>\n",
       "      <th>2020-12-03 23:10:00</th>\n",
       "      <td>22.154542</td>\n",
       "      <td>23.480283</td>\n",
       "    </tr>\n",
       "    <tr>\n",
       "      <th>2020-12-03 23:20:00</th>\n",
       "      <td>21.694717</td>\n",
       "      <td>22.722898</td>\n",
       "    </tr>\n",
       "    <tr>\n",
       "      <th>2020-12-03 23:30:00</th>\n",
       "      <td>21.116712</td>\n",
       "      <td>21.808783</td>\n",
       "    </tr>\n",
       "    <tr>\n",
       "      <th>2020-12-03 23:40:00</th>\n",
       "      <td>20.541633</td>\n",
       "      <td>21.927186</td>\n",
       "    </tr>\n",
       "  </tbody>\n",
       "</table>\n",
       "</div>"
      ],
      "text/plain": [
       "                     temp_sensor   temp_ext\n",
       "time                                       \n",
       "2020-12-03 23:00:00    23.000000  22.860966\n",
       "2020-12-03 23:10:00    22.154542  23.480283\n",
       "2020-12-03 23:20:00    21.694717  22.722898\n",
       "2020-12-03 23:30:00    21.116712  21.808783\n",
       "2020-12-03 23:40:00    20.541633  21.927186"
      ]
     },
     "execution_count": 10,
     "metadata": {},
     "output_type": "execute_result"
    }
   ],
   "source": [
    "test2.head()"
   ]
  },
  {
   "cell_type": "code",
   "execution_count": 9,
   "metadata": {},
   "outputs": [],
   "source": [
    "test2.temp_sensor[0] = 23"
   ]
  },
  {
   "cell_type": "code",
   "execution_count": 4,
   "metadata": {},
   "outputs": [],
   "source": [
    "# make prediction\n",
    "yhat = model.forecast(steps=len(test))\n",
    "\n",
    "res=pd.DataFrame({\"t_pred\":yhat['temp_sensor']})"
   ]
  },
  {
   "cell_type": "code",
   "execution_count": 5,
   "metadata": {},
   "outputs": [
    {
     "data": {
      "text/html": [
       "<div>\n",
       "<style scoped>\n",
       "    .dataframe tbody tr th:only-of-type {\n",
       "        vertical-align: middle;\n",
       "    }\n",
       "\n",
       "    .dataframe tbody tr th {\n",
       "        vertical-align: top;\n",
       "    }\n",
       "\n",
       "    .dataframe thead th {\n",
       "        text-align: right;\n",
       "    }\n",
       "</style>\n",
       "<table border=\"1\" class=\"dataframe\">\n",
       "  <thead>\n",
       "    <tr style=\"text-align: right;\">\n",
       "      <th></th>\n",
       "      <th>t_pred</th>\n",
       "    </tr>\n",
       "  </thead>\n",
       "  <tbody>\n",
       "    <tr>\n",
       "      <th>2020-12-04 00:00:00</th>\n",
       "      <td>21.554171</td>\n",
       "    </tr>\n",
       "    <tr>\n",
       "      <th>2020-12-04 00:10:00</th>\n",
       "      <td>23.131725</td>\n",
       "    </tr>\n",
       "    <tr>\n",
       "      <th>2020-12-04 00:20:00</th>\n",
       "      <td>23.010177</td>\n",
       "    </tr>\n",
       "    <tr>\n",
       "      <th>2020-12-04 00:30:00</th>\n",
       "      <td>22.858781</td>\n",
       "    </tr>\n",
       "    <tr>\n",
       "      <th>2020-12-04 00:40:00</th>\n",
       "      <td>22.711926</td>\n",
       "    </tr>\n",
       "    <tr>\n",
       "      <th>2020-12-04 00:50:00</th>\n",
       "      <td>22.570146</td>\n",
       "    </tr>\n",
       "  </tbody>\n",
       "</table>\n",
       "</div>"
      ],
      "text/plain": [
       "                        t_pred\n",
       "2020-12-04 00:00:00  21.554171\n",
       "2020-12-04 00:10:00  23.131725\n",
       "2020-12-04 00:20:00  23.010177\n",
       "2020-12-04 00:30:00  22.858781\n",
       "2020-12-04 00:40:00  22.711926\n",
       "2020-12-04 00:50:00  22.570146"
      ]
     },
     "execution_count": 5,
     "metadata": {},
     "output_type": "execute_result"
    }
   ],
   "source": [
    "res "
   ]
  },
  {
   "cell_type": "code",
   "execution_count": 11,
   "metadata": {},
   "outputs": [],
   "source": [
    "# make prediction\n",
    "yhat = model.forecast(steps=len(test2))\n",
    "\n",
    "res=pd.DataFrame({\"t_pred\":yhat['temp_sensor']})"
   ]
  },
  {
   "cell_type": "code",
   "execution_count": 12,
   "metadata": {},
   "outputs": [
    {
     "data": {
      "text/html": [
       "<div>\n",
       "<style scoped>\n",
       "    .dataframe tbody tr th:only-of-type {\n",
       "        vertical-align: middle;\n",
       "    }\n",
       "\n",
       "    .dataframe tbody tr th {\n",
       "        vertical-align: top;\n",
       "    }\n",
       "\n",
       "    .dataframe thead th {\n",
       "        text-align: right;\n",
       "    }\n",
       "</style>\n",
       "<table border=\"1\" class=\"dataframe\">\n",
       "  <thead>\n",
       "    <tr style=\"text-align: right;\">\n",
       "      <th></th>\n",
       "      <th>t_pred</th>\n",
       "    </tr>\n",
       "  </thead>\n",
       "  <tbody>\n",
       "    <tr>\n",
       "      <th>2020-12-04 00:00:00</th>\n",
       "      <td>21.554171</td>\n",
       "    </tr>\n",
       "    <tr>\n",
       "      <th>2020-12-04 00:10:00</th>\n",
       "      <td>23.131725</td>\n",
       "    </tr>\n",
       "    <tr>\n",
       "      <th>2020-12-04 00:20:00</th>\n",
       "      <td>23.010177</td>\n",
       "    </tr>\n",
       "    <tr>\n",
       "      <th>2020-12-04 00:30:00</th>\n",
       "      <td>22.858781</td>\n",
       "    </tr>\n",
       "    <tr>\n",
       "      <th>2020-12-04 00:40:00</th>\n",
       "      <td>22.711926</td>\n",
       "    </tr>\n",
       "    <tr>\n",
       "      <th>2020-12-04 00:50:00</th>\n",
       "      <td>22.570146</td>\n",
       "    </tr>\n",
       "  </tbody>\n",
       "</table>\n",
       "</div>"
      ],
      "text/plain": [
       "                        t_pred\n",
       "2020-12-04 00:00:00  21.554171\n",
       "2020-12-04 00:10:00  23.131725\n",
       "2020-12-04 00:20:00  23.010177\n",
       "2020-12-04 00:30:00  22.858781\n",
       "2020-12-04 00:40:00  22.711926\n",
       "2020-12-04 00:50:00  22.570146"
      ]
     },
     "execution_count": 12,
     "metadata": {},
     "output_type": "execute_result"
    }
   ],
   "source": [
    "res"
   ]
  },
  {
   "cell_type": "code",
   "execution_count": null,
   "metadata": {},
   "outputs": [],
   "source": []
  }
 ],
 "metadata": {
  "interpreter": {
   "hash": "2893713847e0ab1bf164b8b4ba1d644f7e109adb8a89363d5b4dc31ef3db9698"
  },
  "kernelspec": {
   "display_name": "Python 3.9.6 64-bit ('tensorflow': conda)",
   "name": "python3"
  },
  "language_info": {
   "codemirror_mode": {
    "name": "ipython",
    "version": 3
   },
   "file_extension": ".py",
   "mimetype": "text/x-python",
   "name": "python",
   "nbconvert_exporter": "python",
   "pygments_lexer": "ipython3",
   "version": "3.9.6"
  },
  "orig_nbformat": 4
 },
 "nbformat": 4,
 "nbformat_minor": 2
}
