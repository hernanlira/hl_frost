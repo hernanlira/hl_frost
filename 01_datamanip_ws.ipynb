{
 "cells": [
  {
   "cell_type": "code",
   "execution_count": 1,
   "source": [
    "import pandas as pd"
   ],
   "outputs": [],
   "metadata": {}
  },
  {
   "cell_type": "markdown",
   "source": [
    "Load weather stations data"
   ],
   "metadata": {}
  },
  {
   "cell_type": "code",
   "execution_count": 2,
   "source": [
    "data_ws = pd.read_csv('../pruebas_datos/2020-12-03_ws.csv')"
   ],
   "outputs": [],
   "metadata": {}
  },
  {
   "cell_type": "code",
   "execution_count": 5,
   "source": [
    "data_ws.head()"
   ],
   "outputs": [
    {
     "output_type": "execute_result",
     "data": {
      "text/html": [
       "<div>\n",
       "<style scoped>\n",
       "    .dataframe tbody tr th:only-of-type {\n",
       "        vertical-align: middle;\n",
       "    }\n",
       "\n",
       "    .dataframe tbody tr th {\n",
       "        vertical-align: top;\n",
       "    }\n",
       "\n",
       "    .dataframe thead th {\n",
       "        text-align: right;\n",
       "    }\n",
       "</style>\n",
       "<table border=\"1\" class=\"dataframe\">\n",
       "  <thead>\n",
       "    <tr style=\"text-align: right;\">\n",
       "      <th></th>\n",
       "      <th>time</th>\n",
       "      <th>air_main_temp</th>\n",
       "      <th>hourly_precipitation</th>\n",
       "      <th>main_rel_humidity</th>\n",
       "      <th>air_pressure</th>\n",
       "      <th>max_solar_rad</th>\n",
       "      <th>max_wind_speed</th>\n",
       "      <th>min_temp</th>\n",
       "      <th>max_temp</th>\n",
       "      <th>wind_DD</th>\n",
       "      <th>day_degrees_b10</th>\n",
       "      <th>cold_hours_b7</th>\n",
       "      <th>id</th>\n",
       "      <th>name</th>\n",
       "    </tr>\n",
       "  </thead>\n",
       "  <tbody>\n",
       "    <tr>\n",
       "      <th>0</th>\n",
       "      <td>2020-12-03 00:00:00</td>\n",
       "      <td>NaN</td>\n",
       "      <td>NaN</td>\n",
       "      <td>NaN</td>\n",
       "      <td>NaN</td>\n",
       "      <td>NaN</td>\n",
       "      <td>NaN</td>\n",
       "      <td>NaN</td>\n",
       "      <td>NaN</td>\n",
       "      <td>NaN</td>\n",
       "      <td>390.2</td>\n",
       "      <td>NaN</td>\n",
       "      <td>38</td>\n",
       "      <td>Casablanca</td>\n",
       "    </tr>\n",
       "    <tr>\n",
       "      <th>1</th>\n",
       "      <td>2020-12-03 00:00:00</td>\n",
       "      <td>8.3</td>\n",
       "      <td>0.0</td>\n",
       "      <td>84.7</td>\n",
       "      <td>0.0</td>\n",
       "      <td>0.4</td>\n",
       "      <td>0.0</td>\n",
       "      <td>7.7</td>\n",
       "      <td>8.9</td>\n",
       "      <td>0.0</td>\n",
       "      <td>185.4</td>\n",
       "      <td>NaN</td>\n",
       "      <td>216</td>\n",
       "      <td>Emiliana</td>\n",
       "    </tr>\n",
       "    <tr>\n",
       "      <th>2</th>\n",
       "      <td>2020-12-03 01:00:00</td>\n",
       "      <td>7.1</td>\n",
       "      <td>0.0</td>\n",
       "      <td>88.9</td>\n",
       "      <td>0.0</td>\n",
       "      <td>0.4</td>\n",
       "      <td>0.0</td>\n",
       "      <td>6.7</td>\n",
       "      <td>7.6</td>\n",
       "      <td>0.0</td>\n",
       "      <td>NaN</td>\n",
       "      <td>NaN</td>\n",
       "      <td>216</td>\n",
       "      <td>Emiliana</td>\n",
       "    </tr>\n",
       "    <tr>\n",
       "      <th>3</th>\n",
       "      <td>2020-12-03 02:00:00</td>\n",
       "      <td>6.5</td>\n",
       "      <td>0.0</td>\n",
       "      <td>89.6</td>\n",
       "      <td>0.0</td>\n",
       "      <td>0.4</td>\n",
       "      <td>0.0</td>\n",
       "      <td>6.1</td>\n",
       "      <td>6.7</td>\n",
       "      <td>0.0</td>\n",
       "      <td>NaN</td>\n",
       "      <td>NaN</td>\n",
       "      <td>216</td>\n",
       "      <td>Emiliana</td>\n",
       "    </tr>\n",
       "    <tr>\n",
       "      <th>4</th>\n",
       "      <td>2020-12-03 03:00:00</td>\n",
       "      <td>6.3</td>\n",
       "      <td>0.0</td>\n",
       "      <td>90.3</td>\n",
       "      <td>0.0</td>\n",
       "      <td>0.4</td>\n",
       "      <td>0.0</td>\n",
       "      <td>6.3</td>\n",
       "      <td>6.4</td>\n",
       "      <td>0.0</td>\n",
       "      <td>NaN</td>\n",
       "      <td>NaN</td>\n",
       "      <td>216</td>\n",
       "      <td>Emiliana</td>\n",
       "    </tr>\n",
       "  </tbody>\n",
       "</table>\n",
       "</div>"
      ],
      "text/plain": [
       "                 time  air_main_temp  hourly_precipitation  main_rel_humidity  \\\n",
       "0 2020-12-03 00:00:00            NaN                   NaN                NaN   \n",
       "1 2020-12-03 00:00:00            8.3                   0.0               84.7   \n",
       "2 2020-12-03 01:00:00            7.1                   0.0               88.9   \n",
       "3 2020-12-03 02:00:00            6.5                   0.0               89.6   \n",
       "4 2020-12-03 03:00:00            6.3                   0.0               90.3   \n",
       "\n",
       "   air_pressure  max_solar_rad  max_wind_speed  min_temp  max_temp  wind_DD  \\\n",
       "0           NaN            NaN             NaN       NaN       NaN      NaN   \n",
       "1           0.0            0.4             0.0       7.7       8.9      0.0   \n",
       "2           0.0            0.4             0.0       6.7       7.6      0.0   \n",
       "3           0.0            0.4             0.0       6.1       6.7      0.0   \n",
       "4           0.0            0.4             0.0       6.3       6.4      0.0   \n",
       "\n",
       "   day_degrees_b10  cold_hours_b7   id        name  \n",
       "0            390.2            NaN   38  Casablanca  \n",
       "1            185.4            NaN  216    Emiliana  \n",
       "2              NaN            NaN  216    Emiliana  \n",
       "3              NaN            NaN  216    Emiliana  \n",
       "4              NaN            NaN  216    Emiliana  "
      ]
     },
     "metadata": {},
     "execution_count": 5
    }
   ],
   "metadata": {}
  },
  {
   "cell_type": "code",
   "execution_count": 4,
   "source": [
    "data_ws['time'] = pd.to_datetime(data_ws['time'])"
   ],
   "outputs": [],
   "metadata": {}
  },
  {
   "cell_type": "code",
   "execution_count": null,
   "source": [],
   "outputs": [],
   "metadata": {}
  }
 ],
 "metadata": {
  "orig_nbformat": 4,
  "language_info": {
   "name": "python",
   "version": "3.9.6",
   "mimetype": "text/x-python",
   "codemirror_mode": {
    "name": "ipython",
    "version": 3
   },
   "pygments_lexer": "ipython3",
   "nbconvert_exporter": "python",
   "file_extension": ".py"
  },
  "kernelspec": {
   "name": "python3",
   "display_name": "Python 3.9.6 64-bit ('tensorflow': conda)"
  },
  "interpreter": {
   "hash": "03a21a4e9a1b743d904f6095ba26b6148804158e4aa8afd638f2524b8468b45d"
  }
 },
 "nbformat": 4,
 "nbformat_minor": 2
}