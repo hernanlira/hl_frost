{
 "cells": [
  {
   "cell_type": "code",
   "execution_count": 1,
   "source": [
    "import pandas as pd\n",
    "import numpy as np\n",
    "import matplotlib.pyplot as plt\n",
    "%matplotlib inline\n",
    "\n",
    "from statsmodels.tsa.api import VAR \n",
    "from statsmodels.tsa.stattools import adfuller\n",
    "from statsmodels.tools.eval_measures import rmse, aic "
   ],
   "outputs": [],
   "metadata": {}
  },
  {
   "cell_type": "markdown",
   "source": [
    "Load sensors data"
   ],
   "metadata": {}
  },
  {
   "cell_type": "code",
   "execution_count": 2,
   "source": [
    "data_sensor = pd.read_csv('../pruebas_datos/2020-12-03.csv')"
   ],
   "outputs": [],
   "metadata": {}
  },
  {
   "cell_type": "code",
   "execution_count": 3,
   "source": [
    "data_sensor.head()"
   ],
   "outputs": [
    {
     "output_type": "execute_result",
     "data": {
      "text/html": [
       "<div>\n",
       "<style scoped>\n",
       "    .dataframe tbody tr th:only-of-type {\n",
       "        vertical-align: middle;\n",
       "    }\n",
       "\n",
       "    .dataframe tbody tr th {\n",
       "        vertical-align: top;\n",
       "    }\n",
       "\n",
       "    .dataframe thead th {\n",
       "        text-align: right;\n",
       "    }\n",
       "</style>\n",
       "<table border=\"1\" class=\"dataframe\">\n",
       "  <thead>\n",
       "    <tr style=\"text-align: right;\">\n",
       "      <th></th>\n",
       "      <th>time</th>\n",
       "      <th>measurement</th>\n",
       "      <th>site_id</th>\n",
       "      <th>mote_id</th>\n",
       "      <th>sensor_id</th>\n",
       "      <th>sensor_status</th>\n",
       "      <th>sensor_value</th>\n",
       "    </tr>\n",
       "  </thead>\n",
       "  <tbody>\n",
       "    <tr>\n",
       "      <th>0</th>\n",
       "      <td>2020-12-03T00:00:00.263755</td>\n",
       "      <td>battery</td>\n",
       "      <td>parral</td>\n",
       "      <td>00-17-0d-00-00-59-d1-f1</td>\n",
       "      <td>FFC_SENSOR_BAT</td>\n",
       "      <td>FFC_SENSOR_OK</td>\n",
       "      <td>3.1876</td>\n",
       "    </tr>\n",
       "    <tr>\n",
       "      <th>1</th>\n",
       "      <td>2020-12-03T00:00:01.508517</td>\n",
       "      <td>battery</td>\n",
       "      <td>parral</td>\n",
       "      <td>00-17-0d-00-00-59-cd-ba</td>\n",
       "      <td>FFC_SENSOR_BAT</td>\n",
       "      <td>FFC_SENSOR_OK</td>\n",
       "      <td>3.1984</td>\n",
       "    </tr>\n",
       "    <tr>\n",
       "      <th>2</th>\n",
       "      <td>2020-12-03T00:00:02.233210</td>\n",
       "      <td>battery</td>\n",
       "      <td>parral</td>\n",
       "      <td>00-17-0d-00-00-59-cd-c9</td>\n",
       "      <td>FFC_SENSOR_BAT</td>\n",
       "      <td>FFC_SENSOR_OK</td>\n",
       "      <td>3.1668</td>\n",
       "    </tr>\n",
       "    <tr>\n",
       "      <th>3</th>\n",
       "      <td>2020-12-03T00:00:03.477323</td>\n",
       "      <td>battery</td>\n",
       "      <td>parral</td>\n",
       "      <td>00-17-0d-00-00-59-a9-fb</td>\n",
       "      <td>FFC_SENSOR_BAT</td>\n",
       "      <td>FFC_SENSOR_OK</td>\n",
       "      <td>3.1248</td>\n",
       "    </tr>\n",
       "    <tr>\n",
       "      <th>4</th>\n",
       "      <td>2020-12-03T00:00:04.178922</td>\n",
       "      <td>battery</td>\n",
       "      <td>parral</td>\n",
       "      <td>00-17-0d-00-00-59-d1-e6</td>\n",
       "      <td>FFC_SENSOR_BAT</td>\n",
       "      <td>FFC_SENSOR_OK</td>\n",
       "      <td>3.1704</td>\n",
       "    </tr>\n",
       "  </tbody>\n",
       "</table>\n",
       "</div>"
      ],
      "text/plain": [
       "                         time measurement  ...  sensor_status sensor_value\n",
       "0  2020-12-03T00:00:00.263755     battery  ...  FFC_SENSOR_OK       3.1876\n",
       "1  2020-12-03T00:00:01.508517     battery  ...  FFC_SENSOR_OK       3.1984\n",
       "2  2020-12-03T00:00:02.233210     battery  ...  FFC_SENSOR_OK       3.1668\n",
       "3  2020-12-03T00:00:03.477323     battery  ...  FFC_SENSOR_OK       3.1248\n",
       "4  2020-12-03T00:00:04.178922     battery  ...  FFC_SENSOR_OK       3.1704\n",
       "\n",
       "[5 rows x 7 columns]"
      ]
     },
     "metadata": {},
     "execution_count": 3
    }
   ],
   "metadata": {}
  },
  {
   "cell_type": "markdown",
   "source": [
    "Load weather stations data"
   ],
   "metadata": {}
  },
  {
   "cell_type": "code",
   "execution_count": 4,
   "source": [
    "data_ws = pd.read_csv('../pruebas_datos/campanacura_parral-1.csv')"
   ],
   "outputs": [],
   "metadata": {}
  },
  {
   "cell_type": "code",
   "execution_count": 5,
   "source": [
    "data_ws.head()"
   ],
   "outputs": [
    {
     "output_type": "execute_result",
     "data": {
      "text/html": [
       "<div>\n",
       "<style scoped>\n",
       "    .dataframe tbody tr th:only-of-type {\n",
       "        vertical-align: middle;\n",
       "    }\n",
       "\n",
       "    .dataframe tbody tr th {\n",
       "        vertical-align: top;\n",
       "    }\n",
       "\n",
       "    .dataframe thead th {\n",
       "        text-align: right;\n",
       "    }\n",
       "</style>\n",
       "<table border=\"1\" class=\"dataframe\">\n",
       "  <thead>\n",
       "    <tr style=\"text-align: right;\">\n",
       "      <th></th>\n",
       "      <th>Fecha Hora</th>\n",
       "      <th>Temp. promedio aire</th>\n",
       "      <th>Precipitación horaria</th>\n",
       "      <th>Humed. rel. promedio</th>\n",
       "      <th>Presión atmosférica</th>\n",
       "      <th>Radiación solar máx.</th>\n",
       "      <th>Veloc. máx. viento</th>\n",
       "      <th>Temp. Mínima</th>\n",
       "      <th>Temp. Máxima</th>\n",
       "      <th>Dirección del viento</th>\n",
       "      <th>Grados día (base 10)</th>\n",
       "      <th>Horas frío (base 7)</th>\n",
       "    </tr>\n",
       "  </thead>\n",
       "  <tbody>\n",
       "    <tr>\n",
       "      <th>0</th>\n",
       "      <td>06-01-2021 00:00</td>\n",
       "      <td>17,4</td>\n",
       "      <td>0,0</td>\n",
       "      <td>66,5</td>\n",
       "      <td>1000,0</td>\n",
       "      <td>1,0</td>\n",
       "      <td>0,0</td>\n",
       "      <td>16,9</td>\n",
       "      <td>17,7</td>\n",
       "      <td>0,0</td>\n",
       "      <td>643,8</td>\n",
       "      <td>--</td>\n",
       "    </tr>\n",
       "    <tr>\n",
       "      <th>1</th>\n",
       "      <td>06-01-2021 01:00</td>\n",
       "      <td>17,0</td>\n",
       "      <td>0,0</td>\n",
       "      <td>67,6</td>\n",
       "      <td>1000,0</td>\n",
       "      <td>1,0</td>\n",
       "      <td>0,0</td>\n",
       "      <td>15,9</td>\n",
       "      <td>17,5</td>\n",
       "      <td>0,0</td>\n",
       "      <td>--</td>\n",
       "      <td>--</td>\n",
       "    </tr>\n",
       "    <tr>\n",
       "      <th>2</th>\n",
       "      <td>06-01-2021 02:00</td>\n",
       "      <td>15,5</td>\n",
       "      <td>0,0</td>\n",
       "      <td>71,9</td>\n",
       "      <td>1000,0</td>\n",
       "      <td>1,0</td>\n",
       "      <td>0,0</td>\n",
       "      <td>15,3</td>\n",
       "      <td>15,8</td>\n",
       "      <td>0,0</td>\n",
       "      <td>--</td>\n",
       "      <td>--</td>\n",
       "    </tr>\n",
       "    <tr>\n",
       "      <th>3</th>\n",
       "      <td>06-01-2021 03:00</td>\n",
       "      <td>14,7</td>\n",
       "      <td>0,0</td>\n",
       "      <td>75,2</td>\n",
       "      <td>999,8</td>\n",
       "      <td>1,0</td>\n",
       "      <td>0,0</td>\n",
       "      <td>14,3</td>\n",
       "      <td>15,1</td>\n",
       "      <td>0,0</td>\n",
       "      <td>--</td>\n",
       "      <td>--</td>\n",
       "    </tr>\n",
       "    <tr>\n",
       "      <th>4</th>\n",
       "      <td>06-01-2021 04:00</td>\n",
       "      <td>14,0</td>\n",
       "      <td>0,0</td>\n",
       "      <td>78,4</td>\n",
       "      <td>999,9</td>\n",
       "      <td>1,0</td>\n",
       "      <td>0,0</td>\n",
       "      <td>13,4</td>\n",
       "      <td>14,3</td>\n",
       "      <td>0,0</td>\n",
       "      <td>--</td>\n",
       "      <td>--</td>\n",
       "    </tr>\n",
       "  </tbody>\n",
       "</table>\n",
       "</div>"
      ],
      "text/plain": [
       "         Fecha Hora  ... Horas frío (base 7)\n",
       "0  06-01-2021 00:00  ...                  --\n",
       "1  06-01-2021 01:00  ...                  --\n",
       "2  06-01-2021 02:00  ...                  --\n",
       "3  06-01-2021 03:00  ...                  --\n",
       "4  06-01-2021 04:00  ...                  --\n",
       "\n",
       "[5 rows x 12 columns]"
      ]
     },
     "metadata": {},
     "execution_count": 5
    }
   ],
   "metadata": {}
  },
  {
   "cell_type": "markdown",
   "source": [
    "Let's build a dataframe with temperature and humidity data from sensors"
   ],
   "metadata": {}
  },
  {
   "cell_type": "code",
   "execution_count": 6,
   "source": [
    "sensor_th = data_sensor[data_sensor.measurement == 'air_temp'].append(data_sensor[data_sensor.measurement == 'air_hum'])"
   ],
   "outputs": [],
   "metadata": {}
  },
  {
   "cell_type": "code",
   "execution_count": 7,
   "source": [
    "sensor_th_ok = sensor_th[sensor_th.sensor_status == 'FFC_SENSOR_OK']"
   ],
   "outputs": [],
   "metadata": {}
  },
  {
   "cell_type": "code",
   "execution_count": 8,
   "source": [
    "sensor_th_ok.head()"
   ],
   "outputs": [
    {
     "output_type": "execute_result",
     "data": {
      "text/html": [
       "<div>\n",
       "<style scoped>\n",
       "    .dataframe tbody tr th:only-of-type {\n",
       "        vertical-align: middle;\n",
       "    }\n",
       "\n",
       "    .dataframe tbody tr th {\n",
       "        vertical-align: top;\n",
       "    }\n",
       "\n",
       "    .dataframe thead th {\n",
       "        text-align: right;\n",
       "    }\n",
       "</style>\n",
       "<table border=\"1\" class=\"dataframe\">\n",
       "  <thead>\n",
       "    <tr style=\"text-align: right;\">\n",
       "      <th></th>\n",
       "      <th>time</th>\n",
       "      <th>measurement</th>\n",
       "      <th>site_id</th>\n",
       "      <th>mote_id</th>\n",
       "      <th>sensor_id</th>\n",
       "      <th>sensor_status</th>\n",
       "      <th>sensor_value</th>\n",
       "    </tr>\n",
       "  </thead>\n",
       "  <tbody>\n",
       "    <tr>\n",
       "      <th>213896</th>\n",
       "      <td>2020-12-03T00:00:02.233210</td>\n",
       "      <td>air_temp</td>\n",
       "      <td>parral</td>\n",
       "      <td>00-17-0d-00-00-59-cd-c9</td>\n",
       "      <td>FFC_SENSOR_SHT3x0</td>\n",
       "      <td>FFC_SENSOR_OK</td>\n",
       "      <td>19.279</td>\n",
       "    </tr>\n",
       "    <tr>\n",
       "      <th>213897</th>\n",
       "      <td>2020-12-03T00:00:02.233210</td>\n",
       "      <td>air_temp</td>\n",
       "      <td>parral</td>\n",
       "      <td>00-17-0d-00-00-59-cd-c9</td>\n",
       "      <td>FFC_SENSOR_SHT3x1</td>\n",
       "      <td>FFC_SENSOR_OK</td>\n",
       "      <td>19.957</td>\n",
       "    </tr>\n",
       "    <tr>\n",
       "      <th>213898</th>\n",
       "      <td>2020-12-03T00:00:02.233210</td>\n",
       "      <td>air_temp</td>\n",
       "      <td>parral</td>\n",
       "      <td>00-17-0d-00-00-59-cd-c9</td>\n",
       "      <td>FFC_SENSOR_SHT3x2</td>\n",
       "      <td>FFC_SENSOR_OK</td>\n",
       "      <td>20.341</td>\n",
       "    </tr>\n",
       "    <tr>\n",
       "      <th>213899</th>\n",
       "      <td>2020-12-03T00:00:02.233210</td>\n",
       "      <td>air_temp</td>\n",
       "      <td>parral</td>\n",
       "      <td>00-17-0d-00-00-59-cd-c9</td>\n",
       "      <td>FFC_SENSOR_SHT3x3</td>\n",
       "      <td>FFC_SENSOR_OK</td>\n",
       "      <td>20.654</td>\n",
       "    </tr>\n",
       "    <tr>\n",
       "      <th>213900</th>\n",
       "      <td>2020-12-03T00:00:03.477323</td>\n",
       "      <td>air_temp</td>\n",
       "      <td>parral</td>\n",
       "      <td>00-17-0d-00-00-59-a9-fb</td>\n",
       "      <td>FFC_SENSOR_SHT3x1</td>\n",
       "      <td>FFC_SENSOR_OK</td>\n",
       "      <td>19.936</td>\n",
       "    </tr>\n",
       "  </tbody>\n",
       "</table>\n",
       "</div>"
      ],
      "text/plain": [
       "                              time measurement  ...  sensor_status sensor_value\n",
       "213896  2020-12-03T00:00:02.233210    air_temp  ...  FFC_SENSOR_OK       19.279\n",
       "213897  2020-12-03T00:00:02.233210    air_temp  ...  FFC_SENSOR_OK       19.957\n",
       "213898  2020-12-03T00:00:02.233210    air_temp  ...  FFC_SENSOR_OK       20.341\n",
       "213899  2020-12-03T00:00:02.233210    air_temp  ...  FFC_SENSOR_OK       20.654\n",
       "213900  2020-12-03T00:00:03.477323    air_temp  ...  FFC_SENSOR_OK       19.936\n",
       "\n",
       "[5 rows x 7 columns]"
      ]
     },
     "metadata": {},
     "execution_count": 8
    }
   ],
   "metadata": {}
  },
  {
   "cell_type": "code",
   "execution_count": 9,
   "source": [
    "# Trying out different data manipulation techniques\n",
    "data_group = sensor_th_ok.groupby(['time', 'mote_id', 'sensor_id', 'measurement'])['sensor_value'].agg('mean')"
   ],
   "outputs": [],
   "metadata": {}
  },
  {
   "cell_type": "code",
   "execution_count": 12,
   "source": [
    "data_group.head(10)"
   ],
   "outputs": [
    {
     "output_type": "execute_result",
     "data": {
      "text/plain": [
       "time                        mote_id                  sensor_id          measurement\n",
       "2020-12-03T00:00:02.233210  00-17-0d-00-00-59-cd-c9  FFC_SENSOR_SHT3x0  air_hum        58.409\n",
       "                                                                        air_temp       19.279\n",
       "                                                     FFC_SENSOR_SHT3x1  air_hum        55.331\n",
       "                                                                        air_temp       19.957\n",
       "                                                     FFC_SENSOR_SHT3x2  air_hum        51.982\n",
       "                                                                        air_temp       20.341\n",
       "                                                     FFC_SENSOR_SHT3x3  air_hum        50.712\n",
       "                                                                        air_temp       20.654\n",
       "2020-12-03T00:00:03.477323  00-17-0d-00-00-59-a9-fb  FFC_SENSOR_SHT3x1  air_hum        49.014\n",
       "                                                                        air_temp       19.936\n",
       "Name: sensor_value, dtype: float64"
      ]
     },
     "metadata": {},
     "execution_count": 12
    }
   ],
   "metadata": {}
  },
  {
   "cell_type": "code",
   "execution_count": 13,
   "source": [
    "df_data_group = pd.DataFrame(data_group.unstack(level='measurement')).reset_index()"
   ],
   "outputs": [],
   "metadata": {}
  },
  {
   "cell_type": "code",
   "execution_count": 14,
   "source": [
    "df_data_group.head()"
   ],
   "outputs": [
    {
     "output_type": "execute_result",
     "data": {
      "text/html": [
       "<div>\n",
       "<style scoped>\n",
       "    .dataframe tbody tr th:only-of-type {\n",
       "        vertical-align: middle;\n",
       "    }\n",
       "\n",
       "    .dataframe tbody tr th {\n",
       "        vertical-align: top;\n",
       "    }\n",
       "\n",
       "    .dataframe thead th {\n",
       "        text-align: right;\n",
       "    }\n",
       "</style>\n",
       "<table border=\"1\" class=\"dataframe\">\n",
       "  <thead>\n",
       "    <tr style=\"text-align: right;\">\n",
       "      <th>measurement</th>\n",
       "      <th>time</th>\n",
       "      <th>mote_id</th>\n",
       "      <th>sensor_id</th>\n",
       "      <th>air_hum</th>\n",
       "      <th>air_temp</th>\n",
       "    </tr>\n",
       "  </thead>\n",
       "  <tbody>\n",
       "    <tr>\n",
       "      <th>0</th>\n",
       "      <td>2020-12-03T00:00:02.233210</td>\n",
       "      <td>00-17-0d-00-00-59-cd-c9</td>\n",
       "      <td>FFC_SENSOR_SHT3x0</td>\n",
       "      <td>58.409</td>\n",
       "      <td>19.279</td>\n",
       "    </tr>\n",
       "    <tr>\n",
       "      <th>1</th>\n",
       "      <td>2020-12-03T00:00:02.233210</td>\n",
       "      <td>00-17-0d-00-00-59-cd-c9</td>\n",
       "      <td>FFC_SENSOR_SHT3x1</td>\n",
       "      <td>55.331</td>\n",
       "      <td>19.957</td>\n",
       "    </tr>\n",
       "    <tr>\n",
       "      <th>2</th>\n",
       "      <td>2020-12-03T00:00:02.233210</td>\n",
       "      <td>00-17-0d-00-00-59-cd-c9</td>\n",
       "      <td>FFC_SENSOR_SHT3x2</td>\n",
       "      <td>51.982</td>\n",
       "      <td>20.341</td>\n",
       "    </tr>\n",
       "    <tr>\n",
       "      <th>3</th>\n",
       "      <td>2020-12-03T00:00:02.233210</td>\n",
       "      <td>00-17-0d-00-00-59-cd-c9</td>\n",
       "      <td>FFC_SENSOR_SHT3x3</td>\n",
       "      <td>50.712</td>\n",
       "      <td>20.654</td>\n",
       "    </tr>\n",
       "    <tr>\n",
       "      <th>4</th>\n",
       "      <td>2020-12-03T00:00:03.477323</td>\n",
       "      <td>00-17-0d-00-00-59-a9-fb</td>\n",
       "      <td>FFC_SENSOR_SHT3x1</td>\n",
       "      <td>49.014</td>\n",
       "      <td>19.936</td>\n",
       "    </tr>\n",
       "  </tbody>\n",
       "</table>\n",
       "</div>"
      ],
      "text/plain": [
       "measurement                        time  ... air_temp\n",
       "0            2020-12-03T00:00:02.233210  ...   19.279\n",
       "1            2020-12-03T00:00:02.233210  ...   19.957\n",
       "2            2020-12-03T00:00:02.233210  ...   20.341\n",
       "3            2020-12-03T00:00:02.233210  ...   20.654\n",
       "4            2020-12-03T00:00:03.477323  ...   19.936\n",
       "\n",
       "[5 rows x 5 columns]"
      ]
     },
     "metadata": {},
     "execution_count": 14
    }
   ],
   "metadata": {}
  },
  {
   "cell_type": "code",
   "execution_count": null,
   "source": [],
   "outputs": [],
   "metadata": {}
  }
 ],
 "metadata": {
  "orig_nbformat": 4,
  "language_info": {
   "name": "python",
   "version": "3.9.6",
   "mimetype": "text/x-python",
   "codemirror_mode": {
    "name": "ipython",
    "version": 3
   },
   "pygments_lexer": "ipython3",
   "nbconvert_exporter": "python",
   "file_extension": ".py"
  },
  "kernelspec": {
   "name": "python3",
   "display_name": "Python 3.9.6 64-bit ('tensorflow': conda)"
  },
  "interpreter": {
   "hash": "03a21a4e9a1b743d904f6095ba26b6148804158e4aa8afd638f2524b8468b45d"
  }
 },
 "nbformat": 4,
 "nbformat_minor": 2
}