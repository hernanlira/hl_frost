{
 "cells": [
  {
   "cell_type": "code",
   "execution_count": 1,
   "source": [
    "import pandas as pd\n",
    "import numpy as np"
   ],
   "outputs": [],
   "metadata": {}
  },
  {
   "cell_type": "code",
   "execution_count": 2,
   "source": [
    "data = pd.read_csv('../pruebas_datos/2020-12-03.csv')"
   ],
   "outputs": [],
   "metadata": {}
  },
  {
   "cell_type": "code",
   "execution_count": 3,
   "source": [
    "data.head()"
   ],
   "outputs": [
    {
     "output_type": "execute_result",
     "data": {
      "text/html": [
       "<div>\n",
       "<style scoped>\n",
       "    .dataframe tbody tr th:only-of-type {\n",
       "        vertical-align: middle;\n",
       "    }\n",
       "\n",
       "    .dataframe tbody tr th {\n",
       "        vertical-align: top;\n",
       "    }\n",
       "\n",
       "    .dataframe thead th {\n",
       "        text-align: right;\n",
       "    }\n",
       "</style>\n",
       "<table border=\"1\" class=\"dataframe\">\n",
       "  <thead>\n",
       "    <tr style=\"text-align: right;\">\n",
       "      <th></th>\n",
       "      <th>time</th>\n",
       "      <th>measurement</th>\n",
       "      <th>site_id</th>\n",
       "      <th>mote_id</th>\n",
       "      <th>sensor_id</th>\n",
       "      <th>sensor_status</th>\n",
       "      <th>sensor_value</th>\n",
       "    </tr>\n",
       "  </thead>\n",
       "  <tbody>\n",
       "    <tr>\n",
       "      <th>0</th>\n",
       "      <td>2020-12-03T00:00:00.263755</td>\n",
       "      <td>battery</td>\n",
       "      <td>parral</td>\n",
       "      <td>00-17-0d-00-00-59-d1-f1</td>\n",
       "      <td>FFC_SENSOR_BAT</td>\n",
       "      <td>FFC_SENSOR_OK</td>\n",
       "      <td>3.1876</td>\n",
       "    </tr>\n",
       "    <tr>\n",
       "      <th>1</th>\n",
       "      <td>2020-12-03T00:00:01.508517</td>\n",
       "      <td>battery</td>\n",
       "      <td>parral</td>\n",
       "      <td>00-17-0d-00-00-59-cd-ba</td>\n",
       "      <td>FFC_SENSOR_BAT</td>\n",
       "      <td>FFC_SENSOR_OK</td>\n",
       "      <td>3.1984</td>\n",
       "    </tr>\n",
       "    <tr>\n",
       "      <th>2</th>\n",
       "      <td>2020-12-03T00:00:02.233210</td>\n",
       "      <td>battery</td>\n",
       "      <td>parral</td>\n",
       "      <td>00-17-0d-00-00-59-cd-c9</td>\n",
       "      <td>FFC_SENSOR_BAT</td>\n",
       "      <td>FFC_SENSOR_OK</td>\n",
       "      <td>3.1668</td>\n",
       "    </tr>\n",
       "    <tr>\n",
       "      <th>3</th>\n",
       "      <td>2020-12-03T00:00:03.477323</td>\n",
       "      <td>battery</td>\n",
       "      <td>parral</td>\n",
       "      <td>00-17-0d-00-00-59-a9-fb</td>\n",
       "      <td>FFC_SENSOR_BAT</td>\n",
       "      <td>FFC_SENSOR_OK</td>\n",
       "      <td>3.1248</td>\n",
       "    </tr>\n",
       "    <tr>\n",
       "      <th>4</th>\n",
       "      <td>2020-12-03T00:00:04.178922</td>\n",
       "      <td>battery</td>\n",
       "      <td>parral</td>\n",
       "      <td>00-17-0d-00-00-59-d1-e6</td>\n",
       "      <td>FFC_SENSOR_BAT</td>\n",
       "      <td>FFC_SENSOR_OK</td>\n",
       "      <td>3.1704</td>\n",
       "    </tr>\n",
       "  </tbody>\n",
       "</table>\n",
       "</div>"
      ],
      "text/plain": [
       "                         time measurement site_id                  mote_id  \\\n",
       "0  2020-12-03T00:00:00.263755     battery  parral  00-17-0d-00-00-59-d1-f1   \n",
       "1  2020-12-03T00:00:01.508517     battery  parral  00-17-0d-00-00-59-cd-ba   \n",
       "2  2020-12-03T00:00:02.233210     battery  parral  00-17-0d-00-00-59-cd-c9   \n",
       "3  2020-12-03T00:00:03.477323     battery  parral  00-17-0d-00-00-59-a9-fb   \n",
       "4  2020-12-03T00:00:04.178922     battery  parral  00-17-0d-00-00-59-d1-e6   \n",
       "\n",
       "        sensor_id  sensor_status  sensor_value  \n",
       "0  FFC_SENSOR_BAT  FFC_SENSOR_OK        3.1876  \n",
       "1  FFC_SENSOR_BAT  FFC_SENSOR_OK        3.1984  \n",
       "2  FFC_SENSOR_BAT  FFC_SENSOR_OK        3.1668  \n",
       "3  FFC_SENSOR_BAT  FFC_SENSOR_OK        3.1248  \n",
       "4  FFC_SENSOR_BAT  FFC_SENSOR_OK        3.1704  "
      ]
     },
     "metadata": {},
     "execution_count": 3
    }
   ],
   "metadata": {}
  },
  {
   "cell_type": "markdown",
   "source": [
    "Let's build a dataframe with temperature data"
   ],
   "metadata": {}
  },
  {
   "cell_type": "code",
   "execution_count": 4,
   "source": [
    "data_temp = data[data.measurement == 'air_temp']"
   ],
   "outputs": [],
   "metadata": {}
  },
  {
   "cell_type": "code",
   "execution_count": 5,
   "source": [
    "data_temp_ok = data_temp[data_temp.sensor_status == 'FFC_SENSOR_OK']"
   ],
   "outputs": [],
   "metadata": {}
  },
  {
   "cell_type": "code",
   "execution_count": 6,
   "source": [
    "data_temp_ok.head()"
   ],
   "outputs": [
    {
     "output_type": "execute_result",
     "data": {
      "text/html": [
       "<div>\n",
       "<style scoped>\n",
       "    .dataframe tbody tr th:only-of-type {\n",
       "        vertical-align: middle;\n",
       "    }\n",
       "\n",
       "    .dataframe tbody tr th {\n",
       "        vertical-align: top;\n",
       "    }\n",
       "\n",
       "    .dataframe thead th {\n",
       "        text-align: right;\n",
       "    }\n",
       "</style>\n",
       "<table border=\"1\" class=\"dataframe\">\n",
       "  <thead>\n",
       "    <tr style=\"text-align: right;\">\n",
       "      <th></th>\n",
       "      <th>time</th>\n",
       "      <th>measurement</th>\n",
       "      <th>site_id</th>\n",
       "      <th>mote_id</th>\n",
       "      <th>sensor_id</th>\n",
       "      <th>sensor_status</th>\n",
       "      <th>sensor_value</th>\n",
       "    </tr>\n",
       "  </thead>\n",
       "  <tbody>\n",
       "    <tr>\n",
       "      <th>213896</th>\n",
       "      <td>2020-12-03T00:00:02.233210</td>\n",
       "      <td>air_temp</td>\n",
       "      <td>parral</td>\n",
       "      <td>00-17-0d-00-00-59-cd-c9</td>\n",
       "      <td>FFC_SENSOR_SHT3x0</td>\n",
       "      <td>FFC_SENSOR_OK</td>\n",
       "      <td>19.279</td>\n",
       "    </tr>\n",
       "    <tr>\n",
       "      <th>213897</th>\n",
       "      <td>2020-12-03T00:00:02.233210</td>\n",
       "      <td>air_temp</td>\n",
       "      <td>parral</td>\n",
       "      <td>00-17-0d-00-00-59-cd-c9</td>\n",
       "      <td>FFC_SENSOR_SHT3x1</td>\n",
       "      <td>FFC_SENSOR_OK</td>\n",
       "      <td>19.957</td>\n",
       "    </tr>\n",
       "    <tr>\n",
       "      <th>213898</th>\n",
       "      <td>2020-12-03T00:00:02.233210</td>\n",
       "      <td>air_temp</td>\n",
       "      <td>parral</td>\n",
       "      <td>00-17-0d-00-00-59-cd-c9</td>\n",
       "      <td>FFC_SENSOR_SHT3x2</td>\n",
       "      <td>FFC_SENSOR_OK</td>\n",
       "      <td>20.341</td>\n",
       "    </tr>\n",
       "    <tr>\n",
       "      <th>213899</th>\n",
       "      <td>2020-12-03T00:00:02.233210</td>\n",
       "      <td>air_temp</td>\n",
       "      <td>parral</td>\n",
       "      <td>00-17-0d-00-00-59-cd-c9</td>\n",
       "      <td>FFC_SENSOR_SHT3x3</td>\n",
       "      <td>FFC_SENSOR_OK</td>\n",
       "      <td>20.654</td>\n",
       "    </tr>\n",
       "    <tr>\n",
       "      <th>213900</th>\n",
       "      <td>2020-12-03T00:00:03.477323</td>\n",
       "      <td>air_temp</td>\n",
       "      <td>parral</td>\n",
       "      <td>00-17-0d-00-00-59-a9-fb</td>\n",
       "      <td>FFC_SENSOR_SHT3x1</td>\n",
       "      <td>FFC_SENSOR_OK</td>\n",
       "      <td>19.936</td>\n",
       "    </tr>\n",
       "  </tbody>\n",
       "</table>\n",
       "</div>"
      ],
      "text/plain": [
       "                              time measurement site_id  \\\n",
       "213896  2020-12-03T00:00:02.233210    air_temp  parral   \n",
       "213897  2020-12-03T00:00:02.233210    air_temp  parral   \n",
       "213898  2020-12-03T00:00:02.233210    air_temp  parral   \n",
       "213899  2020-12-03T00:00:02.233210    air_temp  parral   \n",
       "213900  2020-12-03T00:00:03.477323    air_temp  parral   \n",
       "\n",
       "                        mote_id          sensor_id  sensor_status  \\\n",
       "213896  00-17-0d-00-00-59-cd-c9  FFC_SENSOR_SHT3x0  FFC_SENSOR_OK   \n",
       "213897  00-17-0d-00-00-59-cd-c9  FFC_SENSOR_SHT3x1  FFC_SENSOR_OK   \n",
       "213898  00-17-0d-00-00-59-cd-c9  FFC_SENSOR_SHT3x2  FFC_SENSOR_OK   \n",
       "213899  00-17-0d-00-00-59-cd-c9  FFC_SENSOR_SHT3x3  FFC_SENSOR_OK   \n",
       "213900  00-17-0d-00-00-59-a9-fb  FFC_SENSOR_SHT3x1  FFC_SENSOR_OK   \n",
       "\n",
       "        sensor_value  \n",
       "213896        19.279  \n",
       "213897        19.957  \n",
       "213898        20.341  \n",
       "213899        20.654  \n",
       "213900        19.936  "
      ]
     },
     "metadata": {},
     "execution_count": 6
    }
   ],
   "metadata": {}
  },
  {
   "cell_type": "code",
   "execution_count": null,
   "source": [],
   "outputs": [],
   "metadata": {}
  }
 ],
 "metadata": {
  "orig_nbformat": 4,
  "language_info": {
   "name": "python",
   "version": "3.9.6",
   "mimetype": "text/x-python",
   "codemirror_mode": {
    "name": "ipython",
    "version": 3
   },
   "pygments_lexer": "ipython3",
   "nbconvert_exporter": "python",
   "file_extension": ".py"
  },
  "kernelspec": {
   "name": "python3",
   "display_name": "Python 3.9.6 64-bit ('tensorflow': conda)"
  },
  "interpreter": {
   "hash": "03a21a4e9a1b743d904f6095ba26b6148804158e4aa8afd638f2524b8468b45d"
  }
 },
 "nbformat": 4,
 "nbformat_minor": 2
}