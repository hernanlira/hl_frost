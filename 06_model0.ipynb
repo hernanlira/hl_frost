{
 "cells": [
  {
   "cell_type": "markdown",
   "source": [
    "Modelo solo para testear el pipeline (no tomar como referencia los resultados).\n",
    "\n",
    "Se está utilizando 1 sensor de temperatura.\n",
    "\n",
    "Para la ejecución se debe capturar el último valor de temperatura conocido y guardarlo en la variable 'observation'.\n",
    "\n",
    "Luego se predice el próximo valor de temperatura.\n",
    "\n",
    "Para este ejemplo estoy usando como input ventanas de 10 minutos para calcular el promedio de temperatura.\n",
    "\n",
    "### Versión .pkl"
   ],
   "metadata": {}
  },
  {
   "cell_type": "code",
   "execution_count": 1,
   "source": [
    "# load the AR model from file\n",
    "import numpy as np\n",
    "from statsmodels.tsa.ar_model import ARResults \n",
    "\n",
    "model = ARResults.load('ar_model.pkl') \n",
    "data = np.load('ar_data.npy') \n",
    "last_ob = np.load('ar_obs.npy')"
   ],
   "outputs": [],
   "metadata": {}
  },
  {
   "cell_type": "code",
   "execution_count": 2,
   "source": [
    "# new temperature value, for example\n",
    "observation = 20\n",
    "\n",
    "# update and save differenced observation\n",
    "diff = observation - last_ob[0]\n",
    "data = np.append(data, [diff], axis=0)\n",
    "np.save('ar_data2.npy', data)\n",
    "\n",
    "#update and save real observation\n",
    "last_ob[0] = observation\n",
    "np.save('ar_obs2.npy', last_ob)"
   ],
   "outputs": [],
   "metadata": {}
  },
  {
   "cell_type": "code",
   "execution_count": 3,
   "source": [
    "# make prediction\n",
    "predictions = model.predict(start=len(data)-1, end=len(data))\n",
    "\n",
    "# transform prediction\n",
    "yhat = predictions[0] + last_ob[0]\n",
    "print('Prediction: %f' % yhat)"
   ],
   "outputs": [
    {
     "output_type": "stream",
     "name": "stdout",
     "text": [
      "Prediction: 19.726856\n"
     ]
    }
   ],
   "metadata": {}
  },
  {
   "cell_type": "markdown",
   "source": [
    "### Versión .npy"
   ],
   "metadata": {}
  },
  {
   "cell_type": "code",
   "execution_count": 2,
   "source": [
    "import numpy as np"
   ],
   "outputs": [],
   "metadata": {}
  },
  {
   "cell_type": "code",
   "execution_count": 1,
   "source": [
    "# Función para la predicción\n",
    "def predict(coef, history):\n",
    "  yhat = coef[0]\n",
    "  for i in range(1, len(coef)):\n",
    "    yhat += coef[i] * history[-i]\n",
    "  return yhat"
   ],
   "outputs": [],
   "metadata": {}
  },
  {
   "cell_type": "code",
   "execution_count": 3,
   "source": [
    "# Obtener nuevo valor de temperatura, por ejemplo:\n",
    "observation = 20\n",
    "\n",
    "# update and save differenced observation\n",
    "lag = np.load('man_data.npy')\n",
    "last_ob = np.load('man_obs.npy')\n",
    "diffed = observation - last_ob[0]\n",
    "lag = np.append(lag[1:], [diffed], axis=0) \n",
    "np.save('man_data.npy', lag)\n",
    "\n",
    "# update and save real observation\n",
    "last_ob[0] = observation \n",
    "np.save('man_obs.npy', last_ob)"
   ],
   "outputs": [],
   "metadata": {}
  },
  {
   "cell_type": "code",
   "execution_count": 4,
   "source": [
    "# cargar modelo y datos\n",
    "coef = np.load('man_model.npy') \n",
    "lag = np.load('man_data.npy') \n",
    "last_ob = np.load('man_obs.npy')"
   ],
   "outputs": [],
   "metadata": {}
  },
  {
   "cell_type": "code",
   "execution_count": 5,
   "source": [
    "# Hacer predicción\n",
    "prediction = predict(coef, lag)"
   ],
   "outputs": [],
   "metadata": {}
  },
  {
   "cell_type": "code",
   "execution_count": 6,
   "source": [
    "# transformar valor predicción\n",
    "yhat = prediction + last_ob[0] \n",
    "print('Prediction: %f' % yhat)"
   ],
   "outputs": [
    {
     "output_type": "stream",
     "name": "stdout",
     "text": [
      "Prediction: 19.794559\n"
     ]
    }
   ],
   "metadata": {}
  }
 ],
 "metadata": {
  "orig_nbformat": 4,
  "language_info": {
   "name": "python",
   "version": "3.9.6",
   "mimetype": "text/x-python",
   "codemirror_mode": {
    "name": "ipython",
    "version": 3
   },
   "pygments_lexer": "ipython3",
   "nbconvert_exporter": "python",
   "file_extension": ".py"
  },
  "kernelspec": {
   "name": "python3",
   "display_name": "Python 3.9.6 64-bit ('tensorflow': conda)"
  },
  "interpreter": {
   "hash": "03a21a4e9a1b743d904f6095ba26b6148804158e4aa8afd638f2524b8468b45d"
  }
 },
 "nbformat": 4,
 "nbformat_minor": 2
}